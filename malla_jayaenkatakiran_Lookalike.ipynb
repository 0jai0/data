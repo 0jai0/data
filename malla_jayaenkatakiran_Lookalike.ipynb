{
 "cells": [
  {
   "cell_type": "code",
   "execution_count": null,
   "metadata": {},
   "outputs": [
    {
     "name": "stdout",
     "output_type": "stream",
     "text": [
      "  CustomerID                                         Lookalikes\n",
      "0      C0001  [('C0190', np.float64(0.968215451295126)), ('C...\n",
      "1      C0002  [('C0088', np.float64(0.9663574397998078)), ('...\n",
      "2      C0003  [('C0052', np.float64(0.9847977904024423)), ('...\n",
      "3      C0004  [('C0165', np.float64(0.9711437718179058)), ('...\n",
      "4      C0005  [('C0186', np.float64(0.9787905419345101)), ('...\n"
     ]
    }
   ],
   "source": [
    "import pandas as pd\n",
    "from sklearn.metrics.pairwise import cosine_similarity\n",
    "from sklearn.preprocessing import StandardScaler, OneHotEncoder\n",
    "\n",
    "customers = pd.read_csv(\"Customers.csv\")\n",
    "products = pd.read_csv(\"Products.csv\")\n",
    "transactions = pd.read_csv(\"Transactions.csv\")\n",
    "\n",
    "transaction_data = transactions.merge(products, on=\"ProductID\").merge(customers, on=\"CustomerID\")\n",
    "\n",
    "customer_profile = transaction_data.groupby(\"CustomerID\").agg(\n",
    "    total_spent=pd.NamedAgg(column=\"TotalValue\", aggfunc=\"sum\"),\n",
    "    avg_transaction_value=pd.NamedAgg(column=\"TotalValue\", aggfunc=\"mean\"),\n",
    "    transaction_count=pd.NamedAgg(column=\"TransactionID\", aggfunc=\"count\"),\n",
    "    favorite_category=pd.NamedAgg(column=\"Category\", aggfunc=lambda x: x.mode()[0]),\n",
    "    region=pd.NamedAgg(column=\"Region\", aggfunc=\"first\")\n",
    ").reset_index()\n",
    "\n",
    "encoder = OneHotEncoder()\n",
    "encoded_region = pd.DataFrame(\n",
    "    encoder.fit_transform(customer_profile[[\"region\"]]).toarray(),\n",
    "    columns=encoder.get_feature_names_out([\"region\"])\n",
    ")\n",
    "\n",
    "encoded_category = pd.DataFrame(\n",
    "    encoder.fit_transform(customer_profile[[\"favorite_category\"]]).toarray(),\n",
    "    columns=encoder.get_feature_names_out([\"favorite_category\"])\n",
    ")\n",
    "\n",
    "numerical_features = customer_profile[[\"total_spent\", \"avg_transaction_value\", \"transaction_count\"]]\n",
    "scaled_features = StandardScaler().fit_transform(numerical_features)\n",
    "\n",
    "customer_features = pd.concat(\n",
    "    [pd.DataFrame(scaled_features, columns=numerical_features.columns), encoded_region, encoded_category],\n",
    "    axis=1\n",
    ")\n",
    "\n",
    "similarity_matrix = cosine_similarity(customer_features)\n",
    "\n",
    "top_lookalikes = {}\n",
    "customer_ids = customer_profile[\"CustomerID\"].tolist()\n",
    "\n",
    "for i, customer_id in enumerate(customer_ids[:20]):  \n",
    "    similarity_scores = list(enumerate(similarity_matrix[i]))\n",
    "\n",
    "    similar_customers = sorted(\n",
    "        [(customer_ids[j], score) for j, score in similarity_scores if i != j],\n",
    "        key=lambda x: x[1],\n",
    "        reverse=True\n",
    "    )[:3]\n",
    "    top_lookalikes[customer_id] = similar_customers\n",
    "\n",
    "\n",
    "lookalike_df = pd.DataFrame({\n",
    "    \"CustomerID\": list(top_lookalikes.keys()),\n",
    "    \"Lookalikes\": [str(value) for value in top_lookalikes.values()]\n",
    "})\n",
    "\n",
    "lookalike_df.to_csv(\"malla_jayavenkatakiran_Lookalike.csv\", index=False)\n",
    "\n",
    "print(lookalike_df.head())\n"
   ]
  }
 ],
 "metadata": {
  "kernelspec": {
   "display_name": "qiskit-env",
   "language": "python",
   "name": "python3"
  },
  "language_info": {
   "codemirror_mode": {
    "name": "ipython",
    "version": 3
   },
   "file_extension": ".py",
   "mimetype": "text/x-python",
   "name": "python",
   "nbconvert_exporter": "python",
   "pygments_lexer": "ipython3",
   "version": "3.10.8"
  }
 },
 "nbformat": 4,
 "nbformat_minor": 2
}
